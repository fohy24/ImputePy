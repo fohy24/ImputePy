{
 "cells": [
  {
   "cell_type": "markdown",
   "metadata": {},
   "source": [
    "## Example"
   ]
  },
  {
   "cell_type": "code",
   "execution_count": 1,
   "metadata": {},
   "outputs": [],
   "source": [
    "from imputepy import LGBMimputer, cols_to_impute, find_cat, column_filter\n",
    "import pandas as pd\n",
    "import numpy as np"
   ]
  },
  {
   "cell_type": "markdown",
   "metadata": {},
   "source": [
    "The first 35,000 rows in the first 17 columns of the [NFL data](https://www.kaggle.com/datasets/maxhorowitz/nflplaybyplay2009to2016) are used for demonstration."
   ]
  },
  {
   "cell_type": "code",
   "execution_count": 5,
   "metadata": {},
   "outputs": [],
   "source": [
    "df = pd.read_csv('data/df.csv')"
   ]
  },
  {
   "cell_type": "code",
   "execution_count": 6,
   "metadata": {},
   "outputs": [
    {
     "data": {
      "text/html": [
       "<div>\n",
       "<style scoped>\n",
       "    .dataframe tbody tr th:only-of-type {\n",
       "        vertical-align: middle;\n",
       "    }\n",
       "\n",
       "    .dataframe tbody tr th {\n",
       "        vertical-align: top;\n",
       "    }\n",
       "\n",
       "    .dataframe thead th {\n",
       "        text-align: right;\n",
       "    }\n",
       "</style>\n",
       "<table border=\"1\" class=\"dataframe\">\n",
       "  <thead>\n",
       "    <tr style=\"text-align: right;\">\n",
       "      <th></th>\n",
       "      <th>Drive</th>\n",
       "      <th>qtr</th>\n",
       "      <th>down</th>\n",
       "      <th>time</th>\n",
       "      <th>TimeUnder</th>\n",
       "      <th>TimeSecs</th>\n",
       "      <th>PlayTimeDiff</th>\n",
       "      <th>SideofField</th>\n",
       "      <th>yrdln</th>\n",
       "      <th>yrdline100</th>\n",
       "      <th>ydstogo</th>\n",
       "      <th>ydsnet</th>\n",
       "      <th>GoalToGo</th>\n",
       "      <th>FirstDown</th>\n",
       "      <th>posteam</th>\n",
       "      <th>DefensiveTeam</th>\n",
       "      <th>desc</th>\n",
       "    </tr>\n",
       "  </thead>\n",
       "  <tbody>\n",
       "    <tr>\n",
       "      <th>0</th>\n",
       "      <td>1</td>\n",
       "      <td>1</td>\n",
       "      <td>NaN</td>\n",
       "      <td>15:00</td>\n",
       "      <td>15</td>\n",
       "      <td>3600.0</td>\n",
       "      <td>0.0</td>\n",
       "      <td>TEN</td>\n",
       "      <td>30.0</td>\n",
       "      <td>30.0</td>\n",
       "      <td>0</td>\n",
       "      <td>0</td>\n",
       "      <td>0.0</td>\n",
       "      <td>NaN</td>\n",
       "      <td>PIT</td>\n",
       "      <td>TEN</td>\n",
       "      <td>R.Bironas kicks 67 yards from TEN 30 to PIT 3....</td>\n",
       "    </tr>\n",
       "    <tr>\n",
       "      <th>1</th>\n",
       "      <td>1</td>\n",
       "      <td>1</td>\n",
       "      <td>1.0</td>\n",
       "      <td>14:53</td>\n",
       "      <td>15</td>\n",
       "      <td>3593.0</td>\n",
       "      <td>7.0</td>\n",
       "      <td>PIT</td>\n",
       "      <td>42.0</td>\n",
       "      <td>58.0</td>\n",
       "      <td>10</td>\n",
       "      <td>5</td>\n",
       "      <td>0.0</td>\n",
       "      <td>0.0</td>\n",
       "      <td>PIT</td>\n",
       "      <td>TEN</td>\n",
       "      <td>(14:53) B.Roethlisberger pass short left to H....</td>\n",
       "    </tr>\n",
       "    <tr>\n",
       "      <th>2</th>\n",
       "      <td>1</td>\n",
       "      <td>1</td>\n",
       "      <td>2.0</td>\n",
       "      <td>14:16</td>\n",
       "      <td>15</td>\n",
       "      <td>3556.0</td>\n",
       "      <td>37.0</td>\n",
       "      <td>PIT</td>\n",
       "      <td>47.0</td>\n",
       "      <td>53.0</td>\n",
       "      <td>5</td>\n",
       "      <td>2</td>\n",
       "      <td>0.0</td>\n",
       "      <td>0.0</td>\n",
       "      <td>PIT</td>\n",
       "      <td>TEN</td>\n",
       "      <td>(14:16) W.Parker right end to PIT 44 for -3 ya...</td>\n",
       "    </tr>\n",
       "    <tr>\n",
       "      <th>3</th>\n",
       "      <td>1</td>\n",
       "      <td>1</td>\n",
       "      <td>3.0</td>\n",
       "      <td>13:35</td>\n",
       "      <td>14</td>\n",
       "      <td>3515.0</td>\n",
       "      <td>41.0</td>\n",
       "      <td>PIT</td>\n",
       "      <td>44.0</td>\n",
       "      <td>56.0</td>\n",
       "      <td>8</td>\n",
       "      <td>2</td>\n",
       "      <td>0.0</td>\n",
       "      <td>0.0</td>\n",
       "      <td>PIT</td>\n",
       "      <td>TEN</td>\n",
       "      <td>(13:35) (Shotgun) B.Roethlisberger pass incomp...</td>\n",
       "    </tr>\n",
       "    <tr>\n",
       "      <th>4</th>\n",
       "      <td>1</td>\n",
       "      <td>1</td>\n",
       "      <td>4.0</td>\n",
       "      <td>13:27</td>\n",
       "      <td>14</td>\n",
       "      <td>3507.0</td>\n",
       "      <td>8.0</td>\n",
       "      <td>PIT</td>\n",
       "      <td>44.0</td>\n",
       "      <td>56.0</td>\n",
       "      <td>8</td>\n",
       "      <td>2</td>\n",
       "      <td>0.0</td>\n",
       "      <td>1.0</td>\n",
       "      <td>PIT</td>\n",
       "      <td>TEN</td>\n",
       "      <td>(13:27) (Punt formation) D.Sepulveda punts 54 ...</td>\n",
       "    </tr>\n",
       "  </tbody>\n",
       "</table>\n",
       "</div>"
      ],
      "text/plain": [
       "   Drive  qtr  down   time  TimeUnder  TimeSecs  PlayTimeDiff SideofField  \\\n",
       "0      1    1   NaN  15:00         15    3600.0           0.0         TEN   \n",
       "1      1    1   1.0  14:53         15    3593.0           7.0         PIT   \n",
       "2      1    1   2.0  14:16         15    3556.0          37.0         PIT   \n",
       "3      1    1   3.0  13:35         14    3515.0          41.0         PIT   \n",
       "4      1    1   4.0  13:27         14    3507.0           8.0         PIT   \n",
       "\n",
       "   yrdln  yrdline100  ydstogo  ydsnet  GoalToGo  FirstDown posteam  \\\n",
       "0   30.0        30.0        0       0       0.0        NaN     PIT   \n",
       "1   42.0        58.0       10       5       0.0        0.0     PIT   \n",
       "2   47.0        53.0        5       2       0.0        0.0     PIT   \n",
       "3   44.0        56.0        8       2       0.0        0.0     PIT   \n",
       "4   44.0        56.0        8       2       0.0        1.0     PIT   \n",
       "\n",
       "  DefensiveTeam                                               desc  \n",
       "0           TEN  R.Bironas kicks 67 yards from TEN 30 to PIT 3....  \n",
       "1           TEN  (14:53) B.Roethlisberger pass short left to H....  \n",
       "2           TEN  (14:16) W.Parker right end to PIT 44 for -3 ya...  \n",
       "3           TEN  (13:35) (Shotgun) B.Roethlisberger pass incomp...  \n",
       "4           TEN  (13:27) (Punt formation) D.Sepulveda punts 54 ...  "
      ]
     },
     "execution_count": 6,
     "metadata": {},
     "output_type": "execute_result"
    }
   ],
   "source": [
    "df.head()"
   ]
  },
  {
   "cell_type": "code",
   "execution_count": 7,
   "metadata": {},
   "outputs": [
    {
     "name": "stdout",
     "output_type": "stream",
     "text": [
      "<class 'pandas.core.frame.DataFrame'>\n",
      "RangeIndex: 35000 entries, 0 to 34999\n",
      "Data columns (total 17 columns):\n",
      " #   Column         Non-Null Count  Dtype  \n",
      "---  ------         --------------  -----  \n",
      " 0   Drive          35000 non-null  int64  \n",
      " 1   qtr            35000 non-null  int64  \n",
      " 2   down           29668 non-null  float64\n",
      " 3   time           34975 non-null  object \n",
      " 4   TimeUnder      35000 non-null  int64  \n",
      " 5   TimeSecs       34975 non-null  float64\n",
      " 6   PlayTimeDiff   34950 non-null  float64\n",
      " 7   SideofField    34952 non-null  object \n",
      " 8   yrdln          34933 non-null  float64\n",
      " 9   yrdline100     34933 non-null  float64\n",
      " 10  ydstogo        35000 non-null  int64  \n",
      " 11  ydsnet         35000 non-null  int64  \n",
      " 12  GoalToGo       34933 non-null  float64\n",
      " 13  FirstDown      32542 non-null  float64\n",
      " 14  posteam        32691 non-null  object \n",
      " 15  DefensiveTeam  32691 non-null  object \n",
      " 16  desc           35000 non-null  object \n",
      "dtypes: float64(7), int64(5), object(5)\n",
      "memory usage: 4.5+ MB\n"
     ]
    }
   ],
   "source": [
    "df.info()"
   ]
  },
  {
   "cell_type": "markdown",
   "metadata": {},
   "source": [
    "11 columns are found to have missing values."
   ]
  },
  {
   "cell_type": "code",
   "execution_count": 8,
   "metadata": {},
   "outputs": [
    {
     "name": "stdout",
     "output_type": "stream",
     "text": [
      "['down', 'time', 'TimeSecs', 'PlayTimeDiff', 'SideofField', 'yrdln', 'yrdline100', 'GoalToGo', 'FirstDown', 'posteam', 'DefensiveTeam']\n",
      "11\n"
     ]
    }
   ],
   "source": [
    "columns_with_missing_values = cols_to_impute(df)\n",
    "print(columns_with_missing_values)\n",
    "print(len(columns_with_missing_values))"
   ]
  },
  {
   "cell_type": "markdown",
   "metadata": {},
   "source": [
    "Columns `qtr`, `down`, `GoalToGo` and `FirstDown` are considered to be categorical columns, despite having numerical values. You can also increase the value of `unique_count_limit` to allow for more categorical columns at the expense of computation time. "
   ]
  },
  {
   "cell_type": "code",
   "execution_count": 9,
   "metadata": {},
   "outputs": [
    {
     "data": {
      "text/plain": [
       "['qtr', 'down', 'GoalToGo', 'FirstDown']"
      ]
     },
     "execution_count": 9,
     "metadata": {},
     "output_type": "execute_result"
    }
   ],
   "source": [
    "find_cat(df, unique_count_limit=15)"
   ]
  },
  {
   "cell_type": "markdown",
   "metadata": {},
   "source": [
    "Categorical columns with more than 50 unique values are default to be skipped and would not be imputed due to extended fitting time required, e.g. column `time`. The threshold can be controlled by changing `filter_upper_limit`."
   ]
  },
  {
   "cell_type": "code",
   "execution_count": 10,
   "metadata": {},
   "outputs": [
    {
     "name": "stdout",
     "output_type": "stream",
     "text": [
      "9 columns will be imputed: ['TimeSecs', 'SideofField', 'GoalToGo', 'PlayTimeDiff', 'FirstDown', 'down', 'yrdline100', 'posteam', 'yrdln']\n",
      "target column: TimeSecs\n",
      "1/9 columns fitted\n",
      "target column: SideofField\n",
      "2/9 columns fitted\n",
      "target column: GoalToGo\n",
      "3/9 columns fitted\n",
      "target column: PlayTimeDiff\n",
      "4/9 columns fitted\n",
      "target column: FirstDown\n",
      "5/9 columns fitted\n",
      "target column: down\n",
      "6/9 columns fitted\n",
      "target column: yrdline100\n",
      "7/9 columns fitted\n",
      "target column: posteam\n",
      "8/9 columns fitted\n",
      "target column: yrdln\n",
      "9/9 columns fitted\n",
      "CPU times: total: 1min 37s\n",
      "Wall time: 8.8 s\n"
     ]
    }
   ],
   "source": [
    "%%time\n",
    "df_imp = LGBMimputer(df, exclude=['DefensiveTeam'])"
   ]
  },
  {
   "cell_type": "code",
   "execution_count": 11,
   "metadata": {},
   "outputs": [
    {
     "name": "stdout",
     "output_type": "stream",
     "text": [
      "<class 'pandas.core.frame.DataFrame'>\n",
      "RangeIndex: 35000 entries, 0 to 34999\n",
      "Data columns (total 17 columns):\n",
      " #   Column         Non-Null Count  Dtype  \n",
      "---  ------         --------------  -----  \n",
      " 0   Drive          35000 non-null  int64  \n",
      " 1   qtr            35000 non-null  int64  \n",
      " 2   down           35000 non-null  float64\n",
      " 3   time           34975 non-null  object \n",
      " 4   TimeUnder      35000 non-null  int64  \n",
      " 5   TimeSecs       35000 non-null  float64\n",
      " 6   PlayTimeDiff   35000 non-null  float64\n",
      " 7   SideofField    35000 non-null  object \n",
      " 8   yrdln          35000 non-null  float64\n",
      " 9   yrdline100     35000 non-null  float64\n",
      " 10  ydstogo        35000 non-null  int64  \n",
      " 11  ydsnet         35000 non-null  int64  \n",
      " 12  GoalToGo       35000 non-null  float64\n",
      " 13  FirstDown      35000 non-null  float64\n",
      " 14  posteam        35000 non-null  object \n",
      " 15  DefensiveTeam  32691 non-null  object \n",
      " 16  desc           35000 non-null  object \n",
      "dtypes: float64(7), int64(5), object(5)\n",
      "memory usage: 4.5+ MB\n"
     ]
    }
   ],
   "source": [
    "df_imp.info()"
   ]
  }
 ],
 "metadata": {
  "kernelspec": {
   "display_name": "imputepy",
   "language": "python",
   "name": "python3"
  },
  "language_info": {
   "codemirror_mode": {
    "name": "ipython",
    "version": 3
   },
   "file_extension": ".py",
   "mimetype": "text/x-python",
   "name": "python",
   "nbconvert_exporter": "python",
   "pygments_lexer": "ipython3",
   "version": "3.9.18"
  }
 },
 "nbformat": 4,
 "nbformat_minor": 2
}
