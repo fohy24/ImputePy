{
 "cells": [
  {
   "cell_type": "markdown",
   "metadata": {},
   "source": [
    "## Example"
   ]
  },
  {
   "cell_type": "code",
   "execution_count": 1,
   "metadata": {},
   "outputs": [],
   "source": [
    "from imputepy import LGBMimputer\n",
    "import pandas as pd\n",
    "import numpy as np"
   ]
  },
  {
   "cell_type": "code",
   "execution_count": 2,
   "metadata": {},
   "outputs": [],
   "source": [
    "df = pd.read_csv('data/df.csv')"
   ]
  },
  {
   "cell_type": "code",
   "execution_count": 8,
   "metadata": {},
   "outputs": [
    {
     "data": {
      "text/html": [
       "<div>\n",
       "<style scoped>\n",
       "    .dataframe tbody tr th:only-of-type {\n",
       "        vertical-align: middle;\n",
       "    }\n",
       "\n",
       "    .dataframe tbody tr th {\n",
       "        vertical-align: top;\n",
       "    }\n",
       "\n",
       "    .dataframe thead th {\n",
       "        text-align: right;\n",
       "    }\n",
       "</style>\n",
       "<table border=\"1\" class=\"dataframe\">\n",
       "  <thead>\n",
       "    <tr style=\"text-align: right;\">\n",
       "      <th></th>\n",
       "      <th>Drive</th>\n",
       "      <th>qtr</th>\n",
       "      <th>down</th>\n",
       "      <th>time</th>\n",
       "      <th>TimeUnder</th>\n",
       "      <th>TimeSecs</th>\n",
       "      <th>PlayTimeDiff</th>\n",
       "      <th>SideofField</th>\n",
       "      <th>yrdln</th>\n",
       "      <th>yrdline100</th>\n",
       "      <th>ydstogo</th>\n",
       "      <th>ydsnet</th>\n",
       "      <th>GoalToGo</th>\n",
       "      <th>FirstDown</th>\n",
       "      <th>posteam</th>\n",
       "      <th>DefensiveTeam</th>\n",
       "      <th>desc</th>\n",
       "    </tr>\n",
       "  </thead>\n",
       "  <tbody>\n",
       "    <tr>\n",
       "      <th>0</th>\n",
       "      <td>1</td>\n",
       "      <td>1</td>\n",
       "      <td>NaN</td>\n",
       "      <td>15:00</td>\n",
       "      <td>15</td>\n",
       "      <td>3600.0</td>\n",
       "      <td>0.0</td>\n",
       "      <td>TEN</td>\n",
       "      <td>30.0</td>\n",
       "      <td>30.0</td>\n",
       "      <td>0</td>\n",
       "      <td>0</td>\n",
       "      <td>0.0</td>\n",
       "      <td>NaN</td>\n",
       "      <td>PIT</td>\n",
       "      <td>TEN</td>\n",
       "      <td>R.Bironas kicks 67 yards from TEN 30 to PIT 3....</td>\n",
       "    </tr>\n",
       "    <tr>\n",
       "      <th>1</th>\n",
       "      <td>1</td>\n",
       "      <td>1</td>\n",
       "      <td>1.0</td>\n",
       "      <td>14:53</td>\n",
       "      <td>15</td>\n",
       "      <td>3593.0</td>\n",
       "      <td>7.0</td>\n",
       "      <td>PIT</td>\n",
       "      <td>42.0</td>\n",
       "      <td>58.0</td>\n",
       "      <td>10</td>\n",
       "      <td>5</td>\n",
       "      <td>0.0</td>\n",
       "      <td>0.0</td>\n",
       "      <td>PIT</td>\n",
       "      <td>TEN</td>\n",
       "      <td>(14:53) B.Roethlisberger pass short left to H....</td>\n",
       "    </tr>\n",
       "    <tr>\n",
       "      <th>2</th>\n",
       "      <td>1</td>\n",
       "      <td>1</td>\n",
       "      <td>2.0</td>\n",
       "      <td>14:16</td>\n",
       "      <td>15</td>\n",
       "      <td>3556.0</td>\n",
       "      <td>37.0</td>\n",
       "      <td>PIT</td>\n",
       "      <td>47.0</td>\n",
       "      <td>53.0</td>\n",
       "      <td>5</td>\n",
       "      <td>2</td>\n",
       "      <td>0.0</td>\n",
       "      <td>0.0</td>\n",
       "      <td>PIT</td>\n",
       "      <td>TEN</td>\n",
       "      <td>(14:16) W.Parker right end to PIT 44 for -3 ya...</td>\n",
       "    </tr>\n",
       "    <tr>\n",
       "      <th>3</th>\n",
       "      <td>1</td>\n",
       "      <td>1</td>\n",
       "      <td>3.0</td>\n",
       "      <td>13:35</td>\n",
       "      <td>14</td>\n",
       "      <td>3515.0</td>\n",
       "      <td>41.0</td>\n",
       "      <td>PIT</td>\n",
       "      <td>44.0</td>\n",
       "      <td>56.0</td>\n",
       "      <td>8</td>\n",
       "      <td>2</td>\n",
       "      <td>0.0</td>\n",
       "      <td>0.0</td>\n",
       "      <td>PIT</td>\n",
       "      <td>TEN</td>\n",
       "      <td>(13:35) (Shotgun) B.Roethlisberger pass incomp...</td>\n",
       "    </tr>\n",
       "    <tr>\n",
       "      <th>4</th>\n",
       "      <td>1</td>\n",
       "      <td>1</td>\n",
       "      <td>4.0</td>\n",
       "      <td>13:27</td>\n",
       "      <td>14</td>\n",
       "      <td>3507.0</td>\n",
       "      <td>8.0</td>\n",
       "      <td>PIT</td>\n",
       "      <td>44.0</td>\n",
       "      <td>56.0</td>\n",
       "      <td>8</td>\n",
       "      <td>2</td>\n",
       "      <td>0.0</td>\n",
       "      <td>1.0</td>\n",
       "      <td>PIT</td>\n",
       "      <td>TEN</td>\n",
       "      <td>(13:27) (Punt formation) D.Sepulveda punts 54 ...</td>\n",
       "    </tr>\n",
       "  </tbody>\n",
       "</table>\n",
       "</div>"
      ],
      "text/plain": [
       "   Drive qtr down   time  TimeUnder  TimeSecs  PlayTimeDiff SideofField  \\\n",
       "0      1   1  NaN  15:00         15    3600.0           0.0         TEN   \n",
       "1      1   1  1.0  14:53         15    3593.0           7.0         PIT   \n",
       "2      1   1  2.0  14:16         15    3556.0          37.0         PIT   \n",
       "3      1   1  3.0  13:35         14    3515.0          41.0         PIT   \n",
       "4      1   1  4.0  13:27         14    3507.0           8.0         PIT   \n",
       "\n",
       "   yrdln  yrdline100  ydstogo  ydsnet GoalToGo FirstDown posteam  \\\n",
       "0   30.0        30.0        0       0      0.0       NaN     PIT   \n",
       "1   42.0        58.0       10       5      0.0       0.0     PIT   \n",
       "2   47.0        53.0        5       2      0.0       0.0     PIT   \n",
       "3   44.0        56.0        8       2      0.0       0.0     PIT   \n",
       "4   44.0        56.0        8       2      0.0       1.0     PIT   \n",
       "\n",
       "  DefensiveTeam                                               desc  \n",
       "0           TEN  R.Bironas kicks 67 yards from TEN 30 to PIT 3....  \n",
       "1           TEN  (14:53) B.Roethlisberger pass short left to H....  \n",
       "2           TEN  (14:16) W.Parker right end to PIT 44 for -3 ya...  \n",
       "3           TEN  (13:35) (Shotgun) B.Roethlisberger pass incomp...  \n",
       "4           TEN  (13:27) (Punt formation) D.Sepulveda punts 54 ...  "
      ]
     },
     "execution_count": 8,
     "metadata": {},
     "output_type": "execute_result"
    }
   ],
   "source": [
    "df.head()"
   ]
  },
  {
   "cell_type": "code",
   "execution_count": 7,
   "metadata": {},
   "outputs": [
    {
     "name": "stdout",
     "output_type": "stream",
     "text": [
      "<class 'pandas.core.frame.DataFrame'>\n",
      "RangeIndex: 407688 entries, 0 to 407687\n",
      "Data columns (total 17 columns):\n",
      " #   Column         Non-Null Count   Dtype   \n",
      "---  ------         --------------   -----   \n",
      " 0   Drive          407688 non-null  int64   \n",
      " 1   qtr            407688 non-null  category\n",
      " 2   down           346534 non-null  category\n",
      " 3   time           407464 non-null  object  \n",
      " 4   TimeUnder      407688 non-null  int64   \n",
      " 5   TimeSecs       407464 non-null  float64 \n",
      " 6   PlayTimeDiff   407244 non-null  float64 \n",
      " 7   SideofField    407160 non-null  category\n",
      " 8   yrdln          406848 non-null  float64 \n",
      " 9   yrdline100     406848 non-null  float64 \n",
      " 10  ydstogo        407688 non-null  int64   \n",
      " 11  ydsnet         407688 non-null  int64   \n",
      " 12  GoalToGo       406848 non-null  category\n",
      " 13  FirstDown      378877 non-null  category\n",
      " 14  posteam        382696 non-null  category\n",
      " 15  DefensiveTeam  382696 non-null  category\n",
      " 16  desc           407686 non-null  object  \n",
      "dtypes: category(7), float64(4), int64(4), object(2)\n",
      "memory usage: 33.8+ MB\n"
     ]
    }
   ],
   "source": [
    "df.info()"
   ]
  },
  {
   "cell_type": "markdown",
   "metadata": {},
   "source": [
    "`time` and `desc` will not be imputed as they are of data type `object`."
   ]
  },
  {
   "cell_type": "code",
   "execution_count": 4,
   "metadata": {},
   "outputs": [
    {
     "name": "stdout",
     "output_type": "stream",
     "text": [
      "10 columns will be imputed: ['DefensiveTeam', 'yrdln', 'PlayTimeDiff', 'posteam', 'down', 'yrdline100', 'TimeSecs', 'FirstDown', 'GoalToGo', 'SideofField']\n",
      "target column: DefensiveTeam\n",
      "1/10 columns fitted\n",
      "target column: yrdln\n",
      "2/10 columns fitted\n",
      "target column: PlayTimeDiff\n",
      "3/10 columns fitted\n",
      "target column: posteam\n",
      "4/10 columns fitted\n",
      "target column: down\n",
      "5/10 columns fitted\n",
      "target column: yrdline100\n",
      "6/10 columns fitted\n",
      "target column: TimeSecs\n",
      "7/10 columns fitted\n",
      "target column: FirstDown\n",
      "8/10 columns fitted\n",
      "target column: GoalToGo\n",
      "9/10 columns fitted\n",
      "target column: SideofField\n",
      "10/10 columns fitted\n"
     ]
    }
   ],
   "source": [
    "df_imp = LGBMimputer(df)"
   ]
  },
  {
   "cell_type": "code",
   "execution_count": 6,
   "metadata": {},
   "outputs": [
    {
     "name": "stdout",
     "output_type": "stream",
     "text": [
      "<class 'pandas.core.frame.DataFrame'>\n",
      "RangeIndex: 407688 entries, 0 to 407687\n",
      "Data columns (total 10 columns):\n",
      " #   Column         Non-Null Count   Dtype   \n",
      "---  ------         --------------   -----   \n",
      " 0   DefensiveTeam  407688 non-null  category\n",
      " 1   yrdln          407688 non-null  float64 \n",
      " 2   PlayTimeDiff   407688 non-null  float64 \n",
      " 3   posteam        407688 non-null  category\n",
      " 4   down           407688 non-null  category\n",
      " 5   yrdline100     407688 non-null  float64 \n",
      " 6   TimeSecs       407688 non-null  float64 \n",
      " 7   FirstDown      407688 non-null  category\n",
      " 8   GoalToGo       407688 non-null  category\n",
      " 9   SideofField    407688 non-null  category\n",
      "dtypes: category(6), float64(4)\n",
      "memory usage: 14.8 MB\n"
     ]
    }
   ],
   "source": [
    "df_imp.info()"
   ]
  }
 ],
 "metadata": {
  "kernelspec": {
   "display_name": "imputepy",
   "language": "python",
   "name": "python3"
  },
  "language_info": {
   "codemirror_mode": {
    "name": "ipython",
    "version": 3
   },
   "file_extension": ".py",
   "mimetype": "text/x-python",
   "name": "python",
   "nbconvert_exporter": "python",
   "pygments_lexer": "ipython3",
   "version": "3.9.18"
  }
 },
 "nbformat": 4,
 "nbformat_minor": 2
}
