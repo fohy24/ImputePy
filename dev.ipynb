{
 "cells": [
  {
   "cell_type": "code",
   "execution_count": 48,
   "metadata": {},
   "outputs": [],
   "source": [
    "import numpy as np\n",
    "import pandas as pd\n",
    "from sklearn.impute import SimpleImputer\n",
    "from lightgbm import LGBMRegressor, LGBMClassifier\n",
    "\n",
    "\n",
    "def cols_to_impute(df):\n",
    "    cols = []\n",
    "    for col in df.columns:\n",
    "        if df[col].isnull().sum() != 0:\n",
    "            cols.append(col)\n",
    "    return cols\n",
    "\n",
    "\n",
    "def complete_columns(df):\n",
    "    cols = []\n",
    "    for col in df.columns:\n",
    "        if df[col].isnull().sum() == 0:\n",
    "            cols.append(col)\n",
    "    return cols\n",
    "\n",
    "\n",
    "def missing_indices(df):\n",
    "    indices = {}\n",
    "    for col in cols_to_impute(df):\n",
    "        indices[col] = df[df[col].isnull()].index.tolist()\n",
    "    return indices\n",
    "\n",
    "def main(path, exclude=None):\n",
    "    df = pd.read_csv(path)\n",
    "    if exclude != None:\n",
    "        df.drop(exclude, axis=1, inplace=True)\n",
    "    numeric_cols = df.select_dtypes(include='number').columns\n",
    "    categorical_cols = df.select_dtypes(exclude='number').columns\n",
    "    print(categorical_cols)\n",
    "\n",
    "    missing_cols = cols_to_impute(df)\n",
    "    complete_cols = complete_columns(df)\n",
    "\n",
    "    numeric_missing_cols = list(set(missing_cols) & set(numeric_cols))\n",
    "    categorical_missing_cols = list(\n",
    "        set(missing_cols) & set(categorical_cols))\n",
    "    missing_cols = [categorical_missing_cols, numeric_missing_cols]\n",
    "\n",
    "    df_numeric = df.select_dtypes(include='number')\n",
    "    print(df_numeric.shape)\n",
    "    df_categoric = df.select_dtypes(exclude='number').astype('category')\n",
    "    display(df_categoric.info())\n",
    "\n",
    "    # Train and Test df\n",
    "    train_df_numeric = df_numeric.dropna()\n",
    "    train_df_categoric = df_categoric.dropna()\n",
    "\n",
    "    pred = {}\n",
    "    for x in missing_cols:\n",
    "        for i, target_column in enumerate(x):\n",
    "            print(f'target column: {target_column}')\n",
    "\n",
    "            if x == numeric_missing_cols:\n",
    "                imputer = LGBMRegressor(n_jobs=-1)\n",
    "                df_to_impute = df_numeric\n",
    "                train_df = train_df_numeric\n",
    "            if x == categorical_missing_cols:\n",
    "                imputer = LGBMClassifier(n_jobs=-1)\n",
    "                df_to_impute = df_categoric\n",
    "                train_df = train_df_categoric\n",
    "                display(train_df.info())\n",
    "\n",
    "            X_train = train_df.drop(columns=[target_column])\n",
    "            y_train = train_df[[target_column]]\n",
    "\n",
    "            test_df = df_to_impute[df_to_impute[target_column].isnull()]\n",
    "            X_test = test_df.drop(columns=[target_column])\n",
    "\n",
    "            print(f'Fitting {i+1}/{len(x)} columns')\n",
    "\n",
    "            imputer.fit(X_train, y_train,\n",
    "                categorical_feature=categorical_cols.to_list())\n",
    "\n",
    "            print(f'{i+1}/{len(x)} columns fitted')\n",
    "            pred[target_column] = imputer.predict(X_test)\n",
    "            \n",
    "            for i, index in enumerate(missing_indices(df_to_impute)[target_column]):\n",
    "                df_to_impute.loc[index, target_column] = pred[target_column][i]\n",
    "        if x == numeric_missing_cols:\n",
    "            df_numeric = df_to_impute\n",
    "        if x == categorical_missing_cols:\n",
    "            df_categoric = df_to_impute\n",
    "\n",
    "    return df_numeric.info(), df_categoric.info()\n",
    "\n",
    "\n",
    "# main('data\\df.csv', 'lgbm')"
   ]
  },
  {
   "cell_type": "code",
   "execution_count": 81,
   "metadata": {},
   "outputs": [],
   "source": [
    "df1 = pd.read_csv(('data\\df.csv')).drop(\n",
    "    ['time', 'desc'], axis=1)\n",
    "# display(var1)\n",
    "# display(np.count_nonzero(var1))"
   ]
  },
  {
   "cell_type": "code",
   "execution_count": 86,
   "metadata": {},
   "outputs": [
    {
     "data": {
      "text/plain": [
       "['qtr', 'down', 'GoalToGo', 'FirstDown']"
      ]
     },
     "execution_count": 86,
     "metadata": {},
     "output_type": "execute_result"
    }
   ],
   "source": [
    "possible_cat = []\n",
    "for col in df1.select_dtypes(include='number').columns:\n",
    "    unique_count = np.count_nonzero(df1[col].unique())\n",
    "    if unique_count < 15:\n",
    "        possible_cat.append(col)\n",
    "possible_cat"
   ]
  },
  {
   "cell_type": "code",
   "execution_count": 92,
   "metadata": {},
   "outputs": [
    {
     "data": {
      "text/plain": [
       "['qtr', 'down', 'GoalToGo', 'FirstDown', 1]"
      ]
     },
     "execution_count": 92,
     "metadata": {},
     "output_type": "execute_result"
    }
   ],
   "source": [
    "def find_cat(df, unique_count_lim=15):\n",
    "    possible_cat = []\n",
    "    for col in df.select_dtypes(include='number').columns:\n",
    "        unique_count = np.count_nonzero(df1[col].unique())\n",
    "        if unique_count < unique_count_lim:\n",
    "            possible_cat.append(col)\n",
    "    return possible_cat\n",
    "var1 = find_cat(df1) + [1]\n",
    "var1"
   ]
  },
  {
   "cell_type": "code",
   "execution_count": 47,
   "metadata": {},
   "outputs": [
    {
     "name": "stdout",
     "output_type": "stream",
     "text": [
      "Index(['SideofField', 'posteam', 'DefensiveTeam'], dtype='object')\n",
      "(407688, 12)\n",
      "<class 'pandas.core.frame.DataFrame'>\n",
      "RangeIndex: 407688 entries, 0 to 407687\n",
      "Data columns (total 3 columns):\n",
      " #   Column         Non-Null Count   Dtype   \n",
      "---  ------         --------------   -----   \n",
      " 0   SideofField    407160 non-null  category\n",
      " 1   posteam        382696 non-null  category\n",
      " 2   DefensiveTeam  382696 non-null  category\n",
      "dtypes: category(3)\n",
      "memory usage: 1.2 MB\n"
     ]
    },
    {
     "data": {
      "text/plain": [
       "None"
      ]
     },
     "metadata": {},
     "output_type": "display_data"
    },
    {
     "name": "stdout",
     "output_type": "stream",
     "text": [
      "target column: DefensiveTeam\n",
      "<class 'pandas.core.frame.DataFrame'>\n",
      "Index: 382696 entries, 0 to 407687\n",
      "Data columns (total 3 columns):\n",
      " #   Column         Non-Null Count   Dtype   \n",
      "---  ------         --------------   -----   \n",
      " 0   SideofField    382696 non-null  category\n",
      " 1   posteam        382696 non-null  category\n",
      " 2   DefensiveTeam  382696 non-null  category\n",
      "dtypes: category(3)\n",
      "memory usage: 4.0 MB\n"
     ]
    },
    {
     "data": {
      "text/plain": [
       "None"
      ]
     },
     "metadata": {},
     "output_type": "display_data"
    },
    {
     "name": "stdout",
     "output_type": "stream",
     "text": [
      "Fitting 1/3 columns\n"
     ]
    },
    {
     "name": "stderr",
     "output_type": "stream",
     "text": [
      "c:\\Users\\fohy2\\miniconda3\\envs\\imputepy\\lib\\site-packages\\sklearn\\preprocessing\\_label.py:97: DataConversionWarning: A column-vector y was passed when a 1d array was expected. Please change the shape of y to (n_samples, ), for example using ravel().\n",
      "  y = column_or_1d(y, warn=True)\n",
      "c:\\Users\\fohy2\\miniconda3\\envs\\imputepy\\lib\\site-packages\\sklearn\\preprocessing\\_label.py:132: DataConversionWarning: A column-vector y was passed when a 1d array was expected. Please change the shape of y to (n_samples, ), for example using ravel().\n",
      "  y = column_or_1d(y, dtype=self.classes_.dtype, warn=True)\n"
     ]
    },
    {
     "ename": "TypeError",
     "evalue": "Wrong type(str) or unknown name(DefensiveTeam) in categorical_feature",
     "output_type": "error",
     "traceback": [
      "\u001b[1;31m---------------------------------------------------------------------------\u001b[0m",
      "\u001b[1;31mTypeError\u001b[0m                                 Traceback (most recent call last)",
      "Cell \u001b[1;32mIn[47], line 1\u001b[0m\n\u001b[1;32m----> 1\u001b[0m \u001b[43mmain\u001b[49m\u001b[43m(\u001b[49m\u001b[38;5;124;43m'\u001b[39;49m\u001b[38;5;124;43mdata\u001b[39;49m\u001b[38;5;124;43m\\\u001b[39;49m\u001b[38;5;124;43mdf.csv\u001b[39;49m\u001b[38;5;124;43m'\u001b[39;49m\u001b[43m,\u001b[49m\u001b[43m \u001b[49m\u001b[43mexclude\u001b[49m\u001b[38;5;241;43m=\u001b[39;49m\u001b[43m[\u001b[49m\u001b[38;5;124;43m'\u001b[39;49m\u001b[38;5;124;43mtime\u001b[39;49m\u001b[38;5;124;43m'\u001b[39;49m\u001b[43m,\u001b[49m\u001b[43m \u001b[49m\u001b[38;5;124;43m'\u001b[39;49m\u001b[38;5;124;43mdesc\u001b[39;49m\u001b[38;5;124;43m'\u001b[39;49m\u001b[43m]\u001b[49m\u001b[43m)\u001b[49m\n",
      "Cell \u001b[1;32mIn[46], line 77\u001b[0m, in \u001b[0;36mmain\u001b[1;34m(path, exclude)\u001b[0m\n\u001b[0;32m     73\u001b[0m X_test \u001b[38;5;241m=\u001b[39m test_df\u001b[38;5;241m.\u001b[39mdrop(columns\u001b[38;5;241m=\u001b[39m[target_column])\n\u001b[0;32m     75\u001b[0m \u001b[38;5;28mprint\u001b[39m(\u001b[38;5;124mf\u001b[39m\u001b[38;5;124m'\u001b[39m\u001b[38;5;124mFitting \u001b[39m\u001b[38;5;132;01m{\u001b[39;00mi\u001b[38;5;241m+\u001b[39m\u001b[38;5;241m1\u001b[39m\u001b[38;5;132;01m}\u001b[39;00m\u001b[38;5;124m/\u001b[39m\u001b[38;5;132;01m{\u001b[39;00m\u001b[38;5;28mlen\u001b[39m(x)\u001b[38;5;132;01m}\u001b[39;00m\u001b[38;5;124m columns\u001b[39m\u001b[38;5;124m'\u001b[39m)\n\u001b[1;32m---> 77\u001b[0m \u001b[43mimputer\u001b[49m\u001b[38;5;241;43m.\u001b[39;49m\u001b[43mfit\u001b[49m\u001b[43m(\u001b[49m\u001b[43mX_train\u001b[49m\u001b[43m,\u001b[49m\u001b[43m \u001b[49m\u001b[43my_train\u001b[49m\u001b[43m,\u001b[49m\n\u001b[0;32m     78\u001b[0m \u001b[43m    \u001b[49m\u001b[43mcategorical_feature\u001b[49m\u001b[38;5;241;43m=\u001b[39;49m\u001b[43mcategorical_cols\u001b[49m\u001b[38;5;241;43m.\u001b[39;49m\u001b[43mto_list\u001b[49m\u001b[43m(\u001b[49m\u001b[43m)\u001b[49m\u001b[43m)\u001b[49m\n\u001b[0;32m     80\u001b[0m \u001b[38;5;28mprint\u001b[39m(\u001b[38;5;124mf\u001b[39m\u001b[38;5;124m'\u001b[39m\u001b[38;5;132;01m{\u001b[39;00mi\u001b[38;5;241m+\u001b[39m\u001b[38;5;241m1\u001b[39m\u001b[38;5;132;01m}\u001b[39;00m\u001b[38;5;124m/\u001b[39m\u001b[38;5;132;01m{\u001b[39;00m\u001b[38;5;28mlen\u001b[39m(x)\u001b[38;5;132;01m}\u001b[39;00m\u001b[38;5;124m columns fitted\u001b[39m\u001b[38;5;124m'\u001b[39m)\n\u001b[0;32m     81\u001b[0m pred[target_column] \u001b[38;5;241m=\u001b[39m imputer\u001b[38;5;241m.\u001b[39mpredict(X_test)\n",
      "File \u001b[1;32mc:\\Users\\fohy2\\miniconda3\\envs\\imputepy\\lib\\site-packages\\lightgbm\\sklearn.py:1187\u001b[0m, in \u001b[0;36mLGBMClassifier.fit\u001b[1;34m(self, X, y, sample_weight, init_score, eval_set, eval_names, eval_sample_weight, eval_class_weight, eval_init_score, eval_metric, feature_name, categorical_feature, callbacks, init_model)\u001b[0m\n\u001b[0;32m   1184\u001b[0m         \u001b[38;5;28;01melse\u001b[39;00m:\n\u001b[0;32m   1185\u001b[0m             valid_sets\u001b[38;5;241m.\u001b[39mappend((valid_x, \u001b[38;5;28mself\u001b[39m\u001b[38;5;241m.\u001b[39m_le\u001b[38;5;241m.\u001b[39mtransform(valid_y)))\n\u001b[1;32m-> 1187\u001b[0m \u001b[38;5;28;43msuper\u001b[39;49m\u001b[43m(\u001b[49m\u001b[43m)\u001b[49m\u001b[38;5;241;43m.\u001b[39;49m\u001b[43mfit\u001b[49m\u001b[43m(\u001b[49m\n\u001b[0;32m   1188\u001b[0m \u001b[43m    \u001b[49m\u001b[43mX\u001b[49m\u001b[43m,\u001b[49m\n\u001b[0;32m   1189\u001b[0m \u001b[43m    \u001b[49m\u001b[43m_y\u001b[49m\u001b[43m,\u001b[49m\n\u001b[0;32m   1190\u001b[0m \u001b[43m    \u001b[49m\u001b[43msample_weight\u001b[49m\u001b[38;5;241;43m=\u001b[39;49m\u001b[43msample_weight\u001b[49m\u001b[43m,\u001b[49m\n\u001b[0;32m   1191\u001b[0m \u001b[43m    \u001b[49m\u001b[43minit_score\u001b[49m\u001b[38;5;241;43m=\u001b[39;49m\u001b[43minit_score\u001b[49m\u001b[43m,\u001b[49m\n\u001b[0;32m   1192\u001b[0m \u001b[43m    \u001b[49m\u001b[43meval_set\u001b[49m\u001b[38;5;241;43m=\u001b[39;49m\u001b[43mvalid_sets\u001b[49m\u001b[43m,\u001b[49m\n\u001b[0;32m   1193\u001b[0m \u001b[43m    \u001b[49m\u001b[43meval_names\u001b[49m\u001b[38;5;241;43m=\u001b[39;49m\u001b[43meval_names\u001b[49m\u001b[43m,\u001b[49m\n\u001b[0;32m   1194\u001b[0m \u001b[43m    \u001b[49m\u001b[43meval_sample_weight\u001b[49m\u001b[38;5;241;43m=\u001b[39;49m\u001b[43meval_sample_weight\u001b[49m\u001b[43m,\u001b[49m\n\u001b[0;32m   1195\u001b[0m \u001b[43m    \u001b[49m\u001b[43meval_class_weight\u001b[49m\u001b[38;5;241;43m=\u001b[39;49m\u001b[43meval_class_weight\u001b[49m\u001b[43m,\u001b[49m\n\u001b[0;32m   1196\u001b[0m \u001b[43m    \u001b[49m\u001b[43meval_init_score\u001b[49m\u001b[38;5;241;43m=\u001b[39;49m\u001b[43meval_init_score\u001b[49m\u001b[43m,\u001b[49m\n\u001b[0;32m   1197\u001b[0m \u001b[43m    \u001b[49m\u001b[43meval_metric\u001b[49m\u001b[38;5;241;43m=\u001b[39;49m\u001b[43meval_metric\u001b[49m\u001b[43m,\u001b[49m\n\u001b[0;32m   1198\u001b[0m \u001b[43m    \u001b[49m\u001b[43mfeature_name\u001b[49m\u001b[38;5;241;43m=\u001b[39;49m\u001b[43mfeature_name\u001b[49m\u001b[43m,\u001b[49m\n\u001b[0;32m   1199\u001b[0m \u001b[43m    \u001b[49m\u001b[43mcategorical_feature\u001b[49m\u001b[38;5;241;43m=\u001b[39;49m\u001b[43mcategorical_feature\u001b[49m\u001b[43m,\u001b[49m\n\u001b[0;32m   1200\u001b[0m \u001b[43m    \u001b[49m\u001b[43mcallbacks\u001b[49m\u001b[38;5;241;43m=\u001b[39;49m\u001b[43mcallbacks\u001b[49m\u001b[43m,\u001b[49m\n\u001b[0;32m   1201\u001b[0m \u001b[43m    \u001b[49m\u001b[43minit_model\u001b[49m\u001b[38;5;241;43m=\u001b[39;49m\u001b[43minit_model\u001b[49m\n\u001b[0;32m   1202\u001b[0m \u001b[43m\u001b[49m\u001b[43m)\u001b[49m\n\u001b[0;32m   1203\u001b[0m \u001b[38;5;28;01mreturn\u001b[39;00m \u001b[38;5;28mself\u001b[39m\n",
      "File \u001b[1;32mc:\\Users\\fohy2\\miniconda3\\envs\\imputepy\\lib\\site-packages\\lightgbm\\sklearn.py:885\u001b[0m, in \u001b[0;36mLGBMModel.fit\u001b[1;34m(self, X, y, sample_weight, init_score, group, eval_set, eval_names, eval_sample_weight, eval_class_weight, eval_init_score, eval_group, eval_metric, feature_name, categorical_feature, callbacks, init_model)\u001b[0m\n\u001b[0;32m    882\u001b[0m evals_result: _EvalResultDict \u001b[38;5;241m=\u001b[39m {}\n\u001b[0;32m    883\u001b[0m callbacks\u001b[38;5;241m.\u001b[39mappend(record_evaluation(evals_result))\n\u001b[1;32m--> 885\u001b[0m \u001b[38;5;28mself\u001b[39m\u001b[38;5;241m.\u001b[39m_Booster \u001b[38;5;241m=\u001b[39m \u001b[43mtrain\u001b[49m\u001b[43m(\u001b[49m\n\u001b[0;32m    886\u001b[0m \u001b[43m    \u001b[49m\u001b[43mparams\u001b[49m\u001b[38;5;241;43m=\u001b[39;49m\u001b[43mparams\u001b[49m\u001b[43m,\u001b[49m\n\u001b[0;32m    887\u001b[0m \u001b[43m    \u001b[49m\u001b[43mtrain_set\u001b[49m\u001b[38;5;241;43m=\u001b[39;49m\u001b[43mtrain_set\u001b[49m\u001b[43m,\u001b[49m\n\u001b[0;32m    888\u001b[0m \u001b[43m    \u001b[49m\u001b[43mnum_boost_round\u001b[49m\u001b[38;5;241;43m=\u001b[39;49m\u001b[38;5;28;43mself\u001b[39;49m\u001b[38;5;241;43m.\u001b[39;49m\u001b[43mn_estimators\u001b[49m\u001b[43m,\u001b[49m\n\u001b[0;32m    889\u001b[0m \u001b[43m    \u001b[49m\u001b[43mvalid_sets\u001b[49m\u001b[38;5;241;43m=\u001b[39;49m\u001b[43mvalid_sets\u001b[49m\u001b[43m,\u001b[49m\n\u001b[0;32m    890\u001b[0m \u001b[43m    \u001b[49m\u001b[43mvalid_names\u001b[49m\u001b[38;5;241;43m=\u001b[39;49m\u001b[43meval_names\u001b[49m\u001b[43m,\u001b[49m\n\u001b[0;32m    891\u001b[0m \u001b[43m    \u001b[49m\u001b[43mfeval\u001b[49m\u001b[38;5;241;43m=\u001b[39;49m\u001b[43meval_metrics_callable\u001b[49m\u001b[43m,\u001b[49m\u001b[43m  \u001b[49m\u001b[38;5;66;43;03m# type: ignore[arg-type]\u001b[39;49;00m\n\u001b[0;32m    892\u001b[0m \u001b[43m    \u001b[49m\u001b[43minit_model\u001b[49m\u001b[38;5;241;43m=\u001b[39;49m\u001b[43minit_model\u001b[49m\u001b[43m,\u001b[49m\n\u001b[0;32m    893\u001b[0m \u001b[43m    \u001b[49m\u001b[43mfeature_name\u001b[49m\u001b[38;5;241;43m=\u001b[39;49m\u001b[43mfeature_name\u001b[49m\u001b[43m,\u001b[49m\n\u001b[0;32m    894\u001b[0m \u001b[43m    \u001b[49m\u001b[43mcallbacks\u001b[49m\u001b[38;5;241;43m=\u001b[39;49m\u001b[43mcallbacks\u001b[49m\n\u001b[0;32m    895\u001b[0m \u001b[43m\u001b[49m\u001b[43m)\u001b[49m\n\u001b[0;32m    897\u001b[0m \u001b[38;5;28mself\u001b[39m\u001b[38;5;241m.\u001b[39m_evals_result \u001b[38;5;241m=\u001b[39m evals_result\n\u001b[0;32m    898\u001b[0m \u001b[38;5;28mself\u001b[39m\u001b[38;5;241m.\u001b[39m_best_iteration \u001b[38;5;241m=\u001b[39m \u001b[38;5;28mself\u001b[39m\u001b[38;5;241m.\u001b[39m_Booster\u001b[38;5;241m.\u001b[39mbest_iteration\n",
      "File \u001b[1;32mc:\\Users\\fohy2\\miniconda3\\envs\\imputepy\\lib\\site-packages\\lightgbm\\engine.py:255\u001b[0m, in \u001b[0;36mtrain\u001b[1;34m(params, train_set, num_boost_round, valid_sets, valid_names, feval, init_model, feature_name, categorical_feature, keep_training_booster, callbacks)\u001b[0m\n\u001b[0;32m    253\u001b[0m \u001b[38;5;66;03m# construct booster\u001b[39;00m\n\u001b[0;32m    254\u001b[0m \u001b[38;5;28;01mtry\u001b[39;00m:\n\u001b[1;32m--> 255\u001b[0m     booster \u001b[38;5;241m=\u001b[39m \u001b[43mBooster\u001b[49m\u001b[43m(\u001b[49m\u001b[43mparams\u001b[49m\u001b[38;5;241;43m=\u001b[39;49m\u001b[43mparams\u001b[49m\u001b[43m,\u001b[49m\u001b[43m \u001b[49m\u001b[43mtrain_set\u001b[49m\u001b[38;5;241;43m=\u001b[39;49m\u001b[43mtrain_set\u001b[49m\u001b[43m)\u001b[49m\n\u001b[0;32m    256\u001b[0m     \u001b[38;5;28;01mif\u001b[39;00m is_valid_contain_train:\n\u001b[0;32m    257\u001b[0m         booster\u001b[38;5;241m.\u001b[39mset_train_data_name(train_data_name)\n",
      "File \u001b[1;32mc:\\Users\\fohy2\\miniconda3\\envs\\imputepy\\lib\\site-packages\\lightgbm\\basic.py:3433\u001b[0m, in \u001b[0;36mBooster.__init__\u001b[1;34m(self, params, train_set, model_file, model_str)\u001b[0m\n\u001b[0;32m   3426\u001b[0m     \u001b[38;5;28mself\u001b[39m\u001b[38;5;241m.\u001b[39mset_network(\n\u001b[0;32m   3427\u001b[0m         machines\u001b[38;5;241m=\u001b[39mmachines,\n\u001b[0;32m   3428\u001b[0m         local_listen_port\u001b[38;5;241m=\u001b[39mparams[\u001b[38;5;124m\"\u001b[39m\u001b[38;5;124mlocal_listen_port\u001b[39m\u001b[38;5;124m\"\u001b[39m],\n\u001b[0;32m   3429\u001b[0m         listen_time_out\u001b[38;5;241m=\u001b[39mparams\u001b[38;5;241m.\u001b[39mget(\u001b[38;5;124m\"\u001b[39m\u001b[38;5;124mtime_out\u001b[39m\u001b[38;5;124m\"\u001b[39m, \u001b[38;5;241m120\u001b[39m),\n\u001b[0;32m   3430\u001b[0m         num_machines\u001b[38;5;241m=\u001b[39mparams[\u001b[38;5;124m\"\u001b[39m\u001b[38;5;124mnum_machines\u001b[39m\u001b[38;5;124m\"\u001b[39m]\n\u001b[0;32m   3431\u001b[0m     )\n\u001b[0;32m   3432\u001b[0m \u001b[38;5;66;03m# construct booster object\u001b[39;00m\n\u001b[1;32m-> 3433\u001b[0m \u001b[43mtrain_set\u001b[49m\u001b[38;5;241;43m.\u001b[39;49m\u001b[43mconstruct\u001b[49m\u001b[43m(\u001b[49m\u001b[43m)\u001b[49m\n\u001b[0;32m   3434\u001b[0m \u001b[38;5;66;03m# copy the parameters from train_set\u001b[39;00m\n\u001b[0;32m   3435\u001b[0m params\u001b[38;5;241m.\u001b[39mupdate(train_set\u001b[38;5;241m.\u001b[39mget_params())\n",
      "File \u001b[1;32mc:\\Users\\fohy2\\miniconda3\\envs\\imputepy\\lib\\site-packages\\lightgbm\\basic.py:2462\u001b[0m, in \u001b[0;36mDataset.construct\u001b[1;34m(self)\u001b[0m\n\u001b[0;32m   2455\u001b[0m             \u001b[38;5;28mself\u001b[39m\u001b[38;5;241m.\u001b[39m_set_init_score_by_predictor(\n\u001b[0;32m   2456\u001b[0m                 predictor\u001b[38;5;241m=\u001b[39m\u001b[38;5;28mself\u001b[39m\u001b[38;5;241m.\u001b[39m_predictor,\n\u001b[0;32m   2457\u001b[0m                 data\u001b[38;5;241m=\u001b[39m\u001b[38;5;28mself\u001b[39m\u001b[38;5;241m.\u001b[39mdata,\n\u001b[0;32m   2458\u001b[0m                 used_indices\u001b[38;5;241m=\u001b[39mused_indices\n\u001b[0;32m   2459\u001b[0m             )\n\u001b[0;32m   2460\u001b[0m \u001b[38;5;28;01melse\u001b[39;00m:\n\u001b[0;32m   2461\u001b[0m     \u001b[38;5;66;03m# create train\u001b[39;00m\n\u001b[1;32m-> 2462\u001b[0m     \u001b[38;5;28;43mself\u001b[39;49m\u001b[38;5;241;43m.\u001b[39;49m\u001b[43m_lazy_init\u001b[49m\u001b[43m(\u001b[49m\u001b[43mdata\u001b[49m\u001b[38;5;241;43m=\u001b[39;49m\u001b[38;5;28;43mself\u001b[39;49m\u001b[38;5;241;43m.\u001b[39;49m\u001b[43mdata\u001b[49m\u001b[43m,\u001b[49m\u001b[43m \u001b[49m\u001b[43mlabel\u001b[49m\u001b[38;5;241;43m=\u001b[39;49m\u001b[38;5;28;43mself\u001b[39;49m\u001b[38;5;241;43m.\u001b[39;49m\u001b[43mlabel\u001b[49m\u001b[43m,\u001b[49m\u001b[43m \u001b[49m\u001b[43mreference\u001b[49m\u001b[38;5;241;43m=\u001b[39;49m\u001b[38;5;28;43;01mNone\u001b[39;49;00m\u001b[43m,\u001b[49m\n\u001b[0;32m   2463\u001b[0m \u001b[43m                    \u001b[49m\u001b[43mweight\u001b[49m\u001b[38;5;241;43m=\u001b[39;49m\u001b[38;5;28;43mself\u001b[39;49m\u001b[38;5;241;43m.\u001b[39;49m\u001b[43mweight\u001b[49m\u001b[43m,\u001b[49m\u001b[43m \u001b[49m\u001b[43mgroup\u001b[49m\u001b[38;5;241;43m=\u001b[39;49m\u001b[38;5;28;43mself\u001b[39;49m\u001b[38;5;241;43m.\u001b[39;49m\u001b[43mgroup\u001b[49m\u001b[43m,\u001b[49m\n\u001b[0;32m   2464\u001b[0m \u001b[43m                    \u001b[49m\u001b[43minit_score\u001b[49m\u001b[38;5;241;43m=\u001b[39;49m\u001b[38;5;28;43mself\u001b[39;49m\u001b[38;5;241;43m.\u001b[39;49m\u001b[43minit_score\u001b[49m\u001b[43m,\u001b[49m\u001b[43m \u001b[49m\u001b[43mpredictor\u001b[49m\u001b[38;5;241;43m=\u001b[39;49m\u001b[38;5;28;43mself\u001b[39;49m\u001b[38;5;241;43m.\u001b[39;49m\u001b[43m_predictor\u001b[49m\u001b[43m,\u001b[49m\n\u001b[0;32m   2465\u001b[0m \u001b[43m                    \u001b[49m\u001b[43mfeature_name\u001b[49m\u001b[38;5;241;43m=\u001b[39;49m\u001b[38;5;28;43mself\u001b[39;49m\u001b[38;5;241;43m.\u001b[39;49m\u001b[43mfeature_name\u001b[49m\u001b[43m,\u001b[49m\u001b[43m \u001b[49m\u001b[43mcategorical_feature\u001b[49m\u001b[38;5;241;43m=\u001b[39;49m\u001b[38;5;28;43mself\u001b[39;49m\u001b[38;5;241;43m.\u001b[39;49m\u001b[43mcategorical_feature\u001b[49m\u001b[43m,\u001b[49m\n\u001b[0;32m   2466\u001b[0m \u001b[43m                    \u001b[49m\u001b[43mparams\u001b[49m\u001b[38;5;241;43m=\u001b[39;49m\u001b[38;5;28;43mself\u001b[39;49m\u001b[38;5;241;43m.\u001b[39;49m\u001b[43mparams\u001b[49m\u001b[43m,\u001b[49m\u001b[43m \u001b[49m\u001b[43mposition\u001b[49m\u001b[38;5;241;43m=\u001b[39;49m\u001b[38;5;28;43mself\u001b[39;49m\u001b[38;5;241;43m.\u001b[39;49m\u001b[43mposition\u001b[49m\u001b[43m)\u001b[49m\n\u001b[0;32m   2467\u001b[0m \u001b[38;5;28;01mif\u001b[39;00m \u001b[38;5;28mself\u001b[39m\u001b[38;5;241m.\u001b[39mfree_raw_data:\n\u001b[0;32m   2468\u001b[0m     \u001b[38;5;28mself\u001b[39m\u001b[38;5;241m.\u001b[39mdata \u001b[38;5;241m=\u001b[39m \u001b[38;5;28;01mNone\u001b[39;00m\n",
      "File \u001b[1;32mc:\\Users\\fohy2\\miniconda3\\envs\\imputepy\\lib\\site-packages\\lightgbm\\basic.py:2048\u001b[0m, in \u001b[0;36mDataset._lazy_init\u001b[1;34m(self, data, label, reference, weight, group, init_score, predictor, feature_name, categorical_feature, params, position)\u001b[0m\n\u001b[0;32m   2046\u001b[0m         categorical_indices\u001b[38;5;241m.\u001b[39madd(name)\n\u001b[0;32m   2047\u001b[0m     \u001b[38;5;28;01melse\u001b[39;00m:\n\u001b[1;32m-> 2048\u001b[0m         \u001b[38;5;28;01mraise\u001b[39;00m \u001b[38;5;167;01mTypeError\u001b[39;00m(\u001b[38;5;124mf\u001b[39m\u001b[38;5;124m\"\u001b[39m\u001b[38;5;124mWrong type(\u001b[39m\u001b[38;5;132;01m{\u001b[39;00m\u001b[38;5;28mtype\u001b[39m(name)\u001b[38;5;241m.\u001b[39m\u001b[38;5;18m__name__\u001b[39m\u001b[38;5;132;01m}\u001b[39;00m\u001b[38;5;124m) or unknown name(\u001b[39m\u001b[38;5;132;01m{\u001b[39;00mname\u001b[38;5;132;01m}\u001b[39;00m\u001b[38;5;124m) in categorical_feature\u001b[39m\u001b[38;5;124m\"\u001b[39m)\n\u001b[0;32m   2049\u001b[0m \u001b[38;5;28;01mif\u001b[39;00m categorical_indices:\n\u001b[0;32m   2050\u001b[0m     \u001b[38;5;28;01mfor\u001b[39;00m cat_alias \u001b[38;5;129;01min\u001b[39;00m _ConfigAliases\u001b[38;5;241m.\u001b[39mget(\u001b[38;5;124m\"\u001b[39m\u001b[38;5;124mcategorical_feature\u001b[39m\u001b[38;5;124m\"\u001b[39m):\n",
      "\u001b[1;31mTypeError\u001b[0m: Wrong type(str) or unknown name(DefensiveTeam) in categorical_feature"
     ]
    }
   ],
   "source": [
    "main('data\\df.csv', exclude=['time', 'desc'])"
   ]
  },
  {
   "cell_type": "code",
   "execution_count": null,
   "metadata": {},
   "outputs": [],
   "source": []
  },
  {
   "cell_type": "code",
   "execution_count": 111,
   "metadata": {},
   "outputs": [],
   "source": [
    "import numpy as np\n",
    "import pandas as pd\n",
    "from sklearn.impute import SimpleImputer\n",
    "from lightgbm import LGBMRegressor, LGBMClassifier\n",
    "\n",
    "\n",
    "def cols_to_impute(df):\n",
    "    cols = []\n",
    "    for col in df.columns:\n",
    "        if df[col].isnull().sum() != 0:\n",
    "            cols.append(col)\n",
    "    return cols\n",
    "\n",
    "\n",
    "def complete_columns(df):\n",
    "    cols = []\n",
    "    for col in df.columns:\n",
    "        if df[col].isnull().sum() == 0:\n",
    "            cols.append(col)\n",
    "    return cols\n",
    "\n",
    "\n",
    "def missing_indices(df):\n",
    "    indices = {}\n",
    "    for col in cols_to_impute(df):\n",
    "        indices[col] = df[df[col].isnull()].index.tolist()\n",
    "    return indices\n",
    "\n",
    "\n",
    "def find_cat(df, unique_count_lim=15):\n",
    "    possible_cat = []\n",
    "    for col in df.select_dtypes(include='number').columns:\n",
    "        unique_count = np.count_nonzero(df1[col].unique())\n",
    "        if unique_count < unique_count_lim:\n",
    "            possible_cat.append(col)\n",
    "    return possible_cat\n",
    "\n",
    "\n",
    "def main(path, exclude=None):\n",
    "    df = pd.read_csv(path)\n",
    "    if exclude != None:\n",
    "        df.drop(exclude, axis=1, inplace=True)\n",
    "    \n",
    "    cat_cols = df.select_dtypes(exclude='number').columns.to_list()\n",
    "    cat_cols += find_cat(df)\n",
    "    df[cat_cols] = df[cat_cols].astype('category')\n",
    "    # display(df.info())\n",
    "\n",
    "    missing_cols = cols_to_impute(df)\n",
    "\n",
    "    pred = {}\n",
    "    for i, target_column in enumerate(missing_cols):\n",
    "        print(f'target column: {target_column}')\n",
    "\n",
    "        # select imputer\n",
    "        if target_column in cat_cols:\n",
    "            imputer = LGBMClassifier(n_jobs=-1, verbose=-1)\n",
    "        else:\n",
    "            imputer = LGBMRegressor(n_jobs=-1, verbose=-1)\n",
    "\n",
    "        # split trainset testset\n",
    "        train_df = df.dropna()\n",
    "        test_df = df[df[target_column].isnull()]\n",
    "        X_train = train_df.drop(columns=[target_column])\n",
    "        y_train = train_df[target_column]\n",
    "        X_test = test_df.drop(columns=[target_column])\n",
    "\n",
    "        # fitting\n",
    "        # print(f'Fitting {i+1}/{len(missing_cols)} columns')\n",
    "        imputer.fit(X_train, y_train)\n",
    "        print(f'{i+1}/{len(missing_cols)} columns fitted')\n",
    "\n",
    "        # prediction\n",
    "        pred[target_column] = imputer.predict(X_test)\n",
    "\n",
    "        # fill na\n",
    "        for i, index in enumerate(missing_indices(df)[target_column]):\n",
    "            df.loc[index, target_column] = pred[target_column][i]\n",
    "\n",
    "    return df"
   ]
  },
  {
   "cell_type": "code",
   "execution_count": 112,
   "metadata": {},
   "outputs": [
    {
     "name": "stdout",
     "output_type": "stream",
     "text": [
      "target column: down\n",
      "1/10 columns fitted\n",
      "target column: TimeSecs\n",
      "2/10 columns fitted\n",
      "target column: PlayTimeDiff\n",
      "3/10 columns fitted\n",
      "target column: SideofField\n",
      "4/10 columns fitted\n",
      "target column: yrdln\n",
      "5/10 columns fitted\n",
      "target column: yrdline100\n",
      "6/10 columns fitted\n",
      "target column: GoalToGo\n",
      "7/10 columns fitted\n",
      "target column: FirstDown\n",
      "8/10 columns fitted\n",
      "target column: posteam\n",
      "9/10 columns fitted\n",
      "target column: DefensiveTeam\n",
      "10/10 columns fitted\n"
     ]
    }
   ],
   "source": [
    "df_imp = main('data\\df.csv', exclude=['time', 'desc'])"
   ]
  },
  {
   "cell_type": "code",
   "execution_count": 117,
   "metadata": {},
   "outputs": [
    {
     "name": "stdout",
     "output_type": "stream",
     "text": [
      "<class 'pandas.core.frame.DataFrame'>\n",
      "RangeIndex: 407688 entries, 0 to 407687\n",
      "Data columns (total 15 columns):\n",
      " #   Column         Non-Null Count   Dtype   \n",
      "---  ------         --------------   -----   \n",
      " 0   Drive          407688 non-null  int64   \n",
      " 1   qtr            407688 non-null  category\n",
      " 2   down           407688 non-null  category\n",
      " 3   TimeUnder      407688 non-null  int64   \n",
      " 4   TimeSecs       407688 non-null  float64 \n",
      " 5   PlayTimeDiff   407688 non-null  float64 \n",
      " 6   SideofField    407688 non-null  category\n",
      " 7   yrdln          407688 non-null  float64 \n",
      " 8   yrdline100     407688 non-null  float64 \n",
      " 9   ydstogo        407688 non-null  int64   \n",
      " 10  ydsnet         407688 non-null  int64   \n",
      " 11  GoalToGo       407688 non-null  category\n",
      " 12  FirstDown      407688 non-null  category\n",
      " 13  posteam        407688 non-null  category\n",
      " 14  DefensiveTeam  407688 non-null  category\n",
      "dtypes: category(7), float64(4), int64(4)\n",
      "memory usage: 27.6 MB\n"
     ]
    }
   ],
   "source": [
    "df_imp.info()"
   ]
  },
  {
   "cell_type": "code",
   "execution_count": 116,
   "metadata": {},
   "outputs": [
    {
     "name": "stdout",
     "output_type": "stream",
     "text": [
      "<class 'pandas.core.frame.DataFrame'>\n",
      "RangeIndex: 407688 entries, 0 to 407687\n",
      "Data columns (total 15 columns):\n",
      " #   Column         Non-Null Count   Dtype  \n",
      "---  ------         --------------   -----  \n",
      " 0   Drive          407688 non-null  int64  \n",
      " 1   qtr            407688 non-null  int64  \n",
      " 2   down           346534 non-null  float64\n",
      " 3   TimeUnder      407688 non-null  int64  \n",
      " 4   TimeSecs       407464 non-null  float64\n",
      " 5   PlayTimeDiff   407244 non-null  float64\n",
      " 6   SideofField    407160 non-null  object \n",
      " 7   yrdln          406848 non-null  float64\n",
      " 8   yrdline100     406848 non-null  float64\n",
      " 9   ydstogo        407688 non-null  int64  \n",
      " 10  ydsnet         407688 non-null  int64  \n",
      " 11  GoalToGo       406848 non-null  float64\n",
      " 12  FirstDown      378877 non-null  float64\n",
      " 13  posteam        382696 non-null  object \n",
      " 14  DefensiveTeam  382696 non-null  object \n",
      "dtypes: float64(7), int64(5), object(3)\n",
      "memory usage: 46.7+ MB\n"
     ]
    }
   ],
   "source": [
    "df1.info()"
   ]
  }
 ],
 "metadata": {
  "kernelspec": {
   "display_name": "imputepy",
   "language": "python",
   "name": "python3"
  },
  "language_info": {
   "codemirror_mode": {
    "name": "ipython",
    "version": 3
   },
   "file_extension": ".py",
   "mimetype": "text/x-python",
   "name": "python",
   "nbconvert_exporter": "python",
   "pygments_lexer": "ipython3",
   "version": "3.9.18"
  }
 },
 "nbformat": 4,
 "nbformat_minor": 2
}
